{
 "cells": [
  {
   "cell_type": "code",
   "execution_count": 9,
   "id": "376e69f2",
   "metadata": {},
   "outputs": [
    {
     "name": "stdout",
     "output_type": "stream",
     "text": [
      "输入文件夹路径E:\\20221227\\20221228 opa1 dnm1l postSD01\n"
     ]
    }
   ],
   "source": [
    "import pandas as pd\n",
    "import os\n",
    "import re\n",
    "directory=input('输入文件夹路径')\n",
    "files=os.listdir(directory)\n",
    "for f in files:\n",
    "    if '.xlsx' in f:\n",
    "        micexlsxdirectory=f\n",
    "        break\n",
    "miceinformation = pd.read_excel(directory+'/'+f, usecols=['鼠号','PreSD笼号'],keep_default_na=True)\n",
    "#注意Windows路径的\\"
   ]
  },
  {
   "cell_type": "code",
   "execution_count": 10,
   "id": "193c432e",
   "metadata": {},
   "outputs": [],
   "source": [
    "micedropna= miceinformation.dropna(how='any')\n",
    "#不能连续.set_index???"
   ]
  },
  {
   "cell_type": "code",
   "execution_count": 11,
   "id": "e599bda8",
   "metadata": {
    "scrolled": true
   },
   "outputs": [
    {
     "data": {
      "text/html": [
       "<div>\n",
       "<style scoped>\n",
       "    .dataframe tbody tr th:only-of-type {\n",
       "        vertical-align: middle;\n",
       "    }\n",
       "\n",
       "    .dataframe tbody tr th {\n",
       "        vertical-align: top;\n",
       "    }\n",
       "\n",
       "    .dataframe thead th {\n",
       "        text-align: right;\n",
       "    }\n",
       "</style>\n",
       "<table border=\"1\" class=\"dataframe\">\n",
       "  <thead>\n",
       "    <tr style=\"text-align: right;\">\n",
       "      <th></th>\n",
       "      <th>鼠号</th>\n",
       "      <th>PreSD笼号</th>\n",
       "    </tr>\n",
       "  </thead>\n",
       "  <tbody>\n",
       "    <tr>\n",
       "      <th>1</th>\n",
       "      <td>1008.0</td>\n",
       "      <td>12.0</td>\n",
       "    </tr>\n",
       "    <tr>\n",
       "      <th>2</th>\n",
       "      <td>1019.0</td>\n",
       "      <td>13.0</td>\n",
       "    </tr>\n",
       "    <tr>\n",
       "      <th>3</th>\n",
       "      <td>1009.0</td>\n",
       "      <td>14.0</td>\n",
       "    </tr>\n",
       "    <tr>\n",
       "      <th>4</th>\n",
       "      <td>1011.0</td>\n",
       "      <td>15.0</td>\n",
       "    </tr>\n",
       "    <tr>\n",
       "      <th>5</th>\n",
       "      <td>1012.0</td>\n",
       "      <td>16.0</td>\n",
       "    </tr>\n",
       "  </tbody>\n",
       "</table>\n",
       "</div>"
      ],
      "text/plain": [
       "       鼠号  PreSD笼号\n",
       "1  1008.0     12.0\n",
       "2  1019.0     13.0\n",
       "3  1009.0     14.0\n",
       "4  1011.0     15.0\n",
       "5  1012.0     16.0"
      ]
     },
     "execution_count": 11,
     "metadata": {},
     "output_type": "execute_result"
    }
   ],
   "source": [
    "micedropna"
   ]
  },
  {
   "cell_type": "code",
   "execution_count": 12,
   "id": "779284c0",
   "metadata": {},
   "outputs": [],
   "source": [
    "miceint=micedropna[['鼠号','PreSD笼号']].astype('int').astype('str')"
   ]
  },
  {
   "cell_type": "code",
   "execution_count": 13,
   "id": "9478621f",
   "metadata": {},
   "outputs": [],
   "source": [
    "micedictionary=miceint.set_index('PreSD笼号').to_dict()['鼠号']"
   ]
  },
  {
   "cell_type": "code",
   "execution_count": 14,
   "id": "7da03130",
   "metadata": {},
   "outputs": [
    {
     "data": {
      "text/plain": [
       "{'12': '1008', '13': '1019', '14': '1009', '15': '1011', '16': '1012'}"
      ]
     },
     "execution_count": 14,
     "metadata": {},
     "output_type": "execute_result"
    }
   ],
   "source": [
    "micedictionary"
   ]
  },
  {
   "cell_type": "markdown",
   "id": "164e9cd3",
   "metadata": {},
   "source": [
    "首先看命名里面包不包含preSD忽略大小写,分为两类\n",
    "再看文件名最后一位,按照最后一位从字典中取出相应的编号"
   ]
  },
  {
   "cell_type": "code",
   "execution_count": 15,
   "id": "67276896",
   "metadata": {},
   "outputs": [],
   "source": [
    "#\\d表示数字{1,2}大括号表示1次或2次 raw string类型\n",
    "# number = re.compile(r'\\d{1,2}')\n",
    "presdflag = r'presd'\n",
    "postsdflag = r'postsd'\n",
    "if re.search(presdflag,directory,re.I):\n",
    "    for f in micedictionary:\n",
    "        if f=='10':\n",
    "            os.rename(directory + '/鼠' + f + '.txt' ,directory + '/' + micedictionary[f]+'#preSD.txt')\n",
    "        else:\n",
    "            os.rename(directory + '/鼠' + f[-1]+'.txt' ,directory + '/' + micedictionary[f]+'#preSD.txt')\n",
    "elif  re.search(postsdflag,directory,re.I):\n",
    "    for f in micedictionary:\n",
    "        if f=='10':\n",
    "            os.rename(directory + '/鼠' + f + '.txt' ,directory + '/' + micedictionary[f]+'#postSD.txt')\n",
    "        else:\n",
    "            os.rename(directory + '/鼠' + f[-1]+'.txt' ,directory + '/' + micedictionary[f]+'#postSD.txt')\n",
    "else:\n",
    "    print('Check name')\n",
    "#不能直接当字符串取[-1],鼠10的地位就很尴尬\n",
    "#不够优雅还有改进的空间"
   ]
  }
 ],
 "metadata": {
  "kernelspec": {
   "display_name": "Python 3 (ipykernel)",
   "language": "python",
   "name": "python3"
  },
  "language_info": {
   "codemirror_mode": {
    "name": "ipython",
    "version": 3
   },
   "file_extension": ".py",
   "mimetype": "text/x-python",
   "name": "python",
   "nbconvert_exporter": "python",
   "pygments_lexer": "ipython3",
   "version": "3.8.13"
  },
  "varInspector": {
   "cols": {
    "lenName": 16,
    "lenType": 16,
    "lenVar": 40
   },
   "kernels_config": {
    "python": {
     "delete_cmd_postfix": "",
     "delete_cmd_prefix": "del ",
     "library": "var_list.py",
     "varRefreshCmd": "print(var_dic_list())"
    },
    "r": {
     "delete_cmd_postfix": ") ",
     "delete_cmd_prefix": "rm(",
     "library": "var_list.r",
     "varRefreshCmd": "cat(var_dic_list()) "
    }
   },
   "oldHeight": 460.844,
   "position": {
    "height": "40px",
    "left": "1002px",
    "right": "20px",
    "top": "230px",
    "width": "800px"
   },
   "types_to_exclude": [
    "module",
    "function",
    "builtin_function_or_method",
    "instance",
    "_Feature"
   ],
   "varInspector_section_display": "none",
   "window_display": false
  }
 },
 "nbformat": 4,
 "nbformat_minor": 5
}
